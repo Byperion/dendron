{
 "cells": [
  {
   "cell_type": "code",
   "execution_count": 4,
   "id": "9ca2a24f-ddd0-46d6-843d-03f7e7741ac5",
   "metadata": {},
   "outputs": [],
   "source": [
    "from dendron import *\n",
    "from dendron.conditions import LMCompletionCondition\n",
    "from dendron.configs.hflm_config import HFLMConfig\n",
    "from dendron.configs.lm_completion_config import LMCompletionConfig"
   ]
  },
  {
   "cell_type": "code",
   "execution_count": 10,
   "id": "026f9381-c502-404d-a1cd-73a1c618aaf0",
   "metadata": {},
   "outputs": [
    {
     "data": {
      "application/vnd.jupyter.widget-view+json": {
       "model_id": "0b9d098c498c4e05855744784e0c96fd",
       "version_major": 2,
       "version_minor": 0
      },
      "text/plain": [
       "Loading checkpoint shards:   0%|          | 0/2 [00:00<?, ?it/s]"
      ]
     },
     "metadata": {},
     "output_type": "display_data"
    },
    {
     "name": "stdout",
     "output_type": "stream",
     "text": [
      "Condition CompletionCondition_0\n"
     ]
    }
   ],
   "source": [
    "model_config = HFLMConfig(\n",
    "    model=\"microsoft/Phi-3-mini-4k-instruct\",\n",
    "    device=\"cpu\",\n",
    "    parallelize=False,\n",
    "    load_in_8bit=False\n",
    ")\n",
    "\n",
    "node_config = LMCompletionConfig(\n",
    "    node_name=\"CompletionCondition\"\n",
    ")\n",
    "\n",
    "# Create and configure node\n",
    "node = LMCompletionCondition(model_config, node_config)\n",
    "tree = BehaviorTree(\"completion-condition-tree\") \n",
    "tree.set_root(node)\n",
    "\n",
    "tree.pretty_print()"
   ]
  },
  {
   "cell_type": "code",
   "execution_count": 11,
   "id": "fcaddafe-2532-4773-8cd8-beb84621fbd2",
   "metadata": {},
   "outputs": [],
   "source": [
    "prompt = \"\"\"{system}\n",
    "### Instruction:\n",
    "{query}\n",
    "\n",
    "### Response:\n",
    "\"\"\""
   ]
  },
  {
   "cell_type": "code",
   "execution_count": 12,
   "id": "c89a99c3-a387-4731-9e54-c3ea0edca5ce",
   "metadata": {},
   "outputs": [
    {
     "data": {
      "text/plain": [
       "<NodeStatus.SUCCESS: 2>"
      ]
     },
     "execution_count": 12,
     "metadata": {},
     "output_type": "execute_result"
    }
   ],
   "source": [
    "def success(completion):\n",
    "    if completion == \"yes\":\n",
    "        return NodeStatus.SUCCESS\n",
    "    else:\n",
    "        return NodeStatus.FAILURE\n",
    "\n",
    "tree.blackboard[\"completions_in\"] = ['yes', 'no']\n",
    "tree.blackboard[\"success_fn\"] = success \n",
    "tree.blackboard[\"in\"] = prompt.format(system=\"\", \n",
    "                                      query=\"The following is a headline from the Wall Street Journal: 'Nation’s Top Economists Are Short-Term Happy, Long-Term Glum.' Is this headline about the economy?\")\n",
    "\n",
    "status = tree.tick_once()\n",
    "status"
   ]
  },
  {
   "cell_type": "code",
   "execution_count": 13,
   "id": "25f3fd28-502d-41e0-8aac-bc57a7de30f1",
   "metadata": {},
   "outputs": [
    {
     "data": {
      "text/plain": [
       "<NodeStatus.SUCCESS: 2>"
      ]
     },
     "execution_count": 13,
     "metadata": {},
     "output_type": "execute_result"
    }
   ],
   "source": [
    "def success1(completion):\n",
    "    if completion == \"cats\":\n",
    "        return NodeStatus.SUCCESS\n",
    "    else:\n",
    "        return NodeStatus.FAILURE\n",
    "\n",
    "tree.blackboard[\"completions_in\"] = ['dogs', 'cats']\n",
    "tree.blackboard[\"success_fn\"] = success1\n",
    "tree.blackboard[\"in\"] = prompt.format(system=\"\", query=\"Which animal is more likely to purr: dogs or cats?\")\n",
    "\n",
    "status = tree.tick_once()\n",
    "status"
   ]
  },
  {
   "cell_type": "code",
   "execution_count": null,
   "id": "67d9df8b-e79f-4067-bb0b-484a93d83a8f",
   "metadata": {},
   "outputs": [],
   "source": []
  }
 ],
 "metadata": {
  "kernelspec": {
   "display_name": "Python 3 (ipykernel)",
   "language": "python",
   "name": "python3"
  },
  "language_info": {
   "codemirror_mode": {
    "name": "ipython",
    "version": 3
   },
   "file_extension": ".py",
   "mimetype": "text/x-python",
   "name": "python",
   "nbconvert_exporter": "python",
   "pygments_lexer": "ipython3",
   "version": "3.11.11"
  }
 },
 "nbformat": 4,
 "nbformat_minor": 5
}
