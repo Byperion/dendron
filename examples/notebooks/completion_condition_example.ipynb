{
 "cells": [
  {
   "cell_type": "code",
   "execution_count": 1,
   "id": "9ca2a24f-ddd0-46d6-843d-03f7e7741ac5",
   "metadata": {},
   "outputs": [],
   "source": [
    "from dendron import *\n",
    "from dendron.conditions import CompletionConditionNodeConfig, CompletionConditionNode"
   ]
  },
  {
   "cell_type": "code",
   "execution_count": 2,
   "id": "4a33a128-9b46-45eb-9448-592df14f1429",
   "metadata": {},
   "outputs": [],
   "source": [
    "def success(completion):\n",
    "    if completion == \"yes\":\n",
    "        return NodeStatus.SUCCESS\n",
    "    else:\n",
    "        return NodeStatus.FAILURE"
   ]
  },
  {
   "cell_type": "code",
   "execution_count": 3,
   "id": "6c97f771-599e-444e-816d-ff6e864ad093",
   "metadata": {},
   "outputs": [],
   "source": [
    "cfg = CompletionConditionNodeConfig(load_in_4bit=True,\n",
    "                                    model_name='v1olet/v1olet_merged_dpo_7B',\n",
    "                                    completions=['yes', 'no'],\n",
    "                                    success_fn=success,\n",
    "                                    use_flash_attn_2=True)"
   ]
  },
  {
   "cell_type": "code",
   "execution_count": 4,
   "id": "026f9381-c502-404d-a1cd-73a1c618aaf0",
   "metadata": {},
   "outputs": [
    {
     "data": {
      "application/vnd.jupyter.widget-view+json": {
       "model_id": "f333c72c386144a3bceb045deeabb0f5",
       "version_major": 2,
       "version_minor": 0
      },
      "text/plain": [
       "Loading checkpoint shards:   0%|          | 0/3 [00:00<?, ?it/s]"
      ]
     },
     "metadata": {},
     "output_type": "display_data"
    }
   ],
   "source": [
    "node = CompletionConditionNode('yessir', cfg)"
   ]
  },
  {
   "cell_type": "code",
   "execution_count": 5,
   "id": "a6bcb7c4-4d59-456f-bc8e-d80a109563ce",
   "metadata": {},
   "outputs": [],
   "source": [
    "tree = BehaviorTree(\"completion-condition-tree\", node)"
   ]
  },
  {
   "cell_type": "code",
   "execution_count": 6,
   "id": "fcaddafe-2532-4773-8cd8-beb84621fbd2",
   "metadata": {},
   "outputs": [],
   "source": [
    "prompt = \"\"\"{system}\n",
    "### Instruction:\n",
    "{query}\n",
    "\n",
    "### Response:\n",
    "\"\"\""
   ]
  },
  {
   "cell_type": "code",
   "execution_count": 7,
   "id": "c89a99c3-a387-4731-9e54-c3ea0edca5ce",
   "metadata": {},
   "outputs": [],
   "source": [
    "tree.blackboard_set(\"in\", prompt.format(system=\"\", \n",
    "                                        query=\"The following is a headline from the Wall Street Journal: 'Nation’s Top Economists Are Short-Term Happy, Long-Term Glum.' Is this about farming?\"))"
   ]
  },
  {
   "cell_type": "code",
   "execution_count": 8,
   "id": "d09124e3-3ce0-46d7-b0d8-bab756300853",
   "metadata": {},
   "outputs": [
    {
     "name": "stderr",
     "output_type": "stream",
     "text": [
      "/home/richard/.conda/envs/test_dendron/lib/python3.11/site-packages/bitsandbytes/nn/modules.py:226: UserWarning: Input type into Linear4bit is torch.float16, but bnb_4bit_compute_type=torch.float32 (default). This will lead to slow inference or training speed.\n",
      "  warnings.warn(f'Input type into Linear4bit is torch.float16, but bnb_4bit_compute_type=torch.float32 (default). This will lead to slow inference or training speed.')\n"
     ]
    }
   ],
   "source": [
    "status = tree.tick_once()"
   ]
  },
  {
   "cell_type": "code",
   "execution_count": 9,
   "id": "d99cfd37-8da1-49a0-8fb4-eca00ee8a33c",
   "metadata": {},
   "outputs": [
    {
     "data": {
      "text/plain": [
       "<NodeStatus.FAILURE: 3>"
      ]
     },
     "execution_count": 9,
     "metadata": {},
     "output_type": "execute_result"
    }
   ],
   "source": [
    "status"
   ]
  },
  {
   "cell_type": "code",
   "execution_count": null,
   "id": "25f3fd28-502d-41e0-8aac-bc57a7de30f1",
   "metadata": {},
   "outputs": [],
   "source": []
  }
 ],
 "metadata": {
  "kernelspec": {
   "display_name": "Python 3 (ipykernel)",
   "language": "python",
   "name": "python3"
  },
  "language_info": {
   "codemirror_mode": {
    "name": "ipython",
    "version": 3
   },
   "file_extension": ".py",
   "mimetype": "text/x-python",
   "name": "python",
   "nbconvert_exporter": "python",
   "pygments_lexer": "ipython3",
   "version": "3.11.5"
  }
 },
 "nbformat": 4,
 "nbformat_minor": 5
}
