{
 "cells": [
  {
   "cell_type": "code",
   "execution_count": null,
   "metadata": {},
   "outputs": [],
   "source": [
    "from dendron import *\n",
    "from dendron.hf.actions.causal_lm_action import CausalLMActionConfig, CausalLMAction"
   ]
  },
  {
   "cell_type": "code",
   "execution_count": null,
   "metadata": {},
   "outputs": [],
   "source": [
    "cfg = CausalLMActionConfig(load_in_8bit=True, \n",
    "                           max_new_tokens=64, \n",
    "                           do_sample=True, \n",
    "                           top_p=0.95, \n",
    "                           model_name = 'v1olet/v1olet_merged_dpo_7B')\n",
    "                           #model_name=\"mistralai/Mistral-7B-Instruct-v0.2\")\n",
    "node = CausalLMAction(\"lm_action\", cfg)\n",
    "tree = BehaviorTree(node)"
   ]
  },
  {
   "cell_type": "code",
   "execution_count": null,
   "metadata": {},
   "outputs": [],
   "source": [
    "#prompt = \"<s>[INST]{query}[/INST]\" For Mistral\n",
    "\n",
    "prompt = \"\"\"{system}\n",
    "### Instruction:\n",
    "{query}\n",
    "\n",
    "### Response:\n",
    "\"\"\""
   ]
  },
  {
   "cell_type": "code",
   "execution_count": null,
   "metadata": {},
   "outputs": [],
   "source": [
    "import re\n",
    "def trunc(node, s):\n",
    "    # for mistral:\n",
    "    #m = re.search(r'\\[INST\\](.*)\\[/INST\\](.*)', s, re.DOTALL)\n",
    "    #return m.group(2)\n",
    "\n",
    "    m = re.search(r'### Response:(.*)', s, re.DOTALL)\n",
    "    return m.group(1).strip()\n",
    "\n",
    "tree.root.set_post_tick(trunc)"
   ]
  },
  {
   "cell_type": "code",
   "execution_count": null,
   "metadata": {},
   "outputs": [],
   "source": [
    "tree.blackboard_set(\"in\", prompt.format(system=\"You are busy and don't have much time to be verbose.\", query=\"The following is a headline from a newspaper: 'History-making SpaceX booster mostly destroyed in post-flight topple.' Is this about a spacecraft? Give a one-word yes or no.\"))"
   ]
  },
  {
   "cell_type": "code",
   "execution_count": null,
   "metadata": {},
   "outputs": [],
   "source": [
    "status = tree.tick_once()\n",
    "if status == NodeStatus.SUCCESS:\n",
    "     print(tree.blackboard[\"out\"])"
   ]
  },
  {
   "cell_type": "code",
   "execution_count": null,
   "metadata": {},
   "outputs": [],
   "source": [
    "print(tree.blackboard)"
   ]
  },
  {
   "cell_type": "code",
   "execution_count": null,
   "metadata": {},
   "outputs": [],
   "source": [
    "tree.blackboard['out']"
   ]
  },
  {
   "cell_type": "code",
   "execution_count": null,
   "metadata": {},
   "outputs": [],
   "source": []
  }
 ],
 "metadata": {
  "kernelspec": {
   "display_name": "Python 3 (ipykernel)",
   "language": "python",
   "name": "python3"
  },
  "language_info": {
   "codemirror_mode": {
    "name": "ipython",
    "version": 3
   },
   "file_extension": ".py",
   "mimetype": "text/x-python",
   "name": "python",
   "nbconvert_exporter": "python",
   "pygments_lexer": "ipython3",
   "version": "3.11.5"
  }
 },
 "nbformat": 4,
 "nbformat_minor": 4
}
